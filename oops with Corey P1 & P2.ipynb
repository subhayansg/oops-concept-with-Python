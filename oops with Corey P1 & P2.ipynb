{
 "cells": [
  {
   "cell_type": "markdown",
   "metadata": {},
   "source": [
    "# Part 1"
   ]
  },
  {
   "cell_type": "code",
   "execution_count": 1,
   "metadata": {},
   "outputs": [],
   "source": [
    "# Create an empty class\n",
    "class Employee:\n",
    "    pass"
   ]
  },
  {
   "cell_type": "code",
   "execution_count": 3,
   "metadata": {},
   "outputs": [],
   "source": [
    "# Create object/instance of the class Employee\n",
    "emp_1 = Employee()\n",
    "emp_2 = Employee()"
   ]
  },
  {
   "cell_type": "code",
   "execution_count": 40,
   "metadata": {},
   "outputs": [
    {
     "name": "stdout",
     "output_type": "stream",
     "text": [
      "Subhayan.Ghosh@company.com\n",
      "Also.Subhayan@company.com\n"
     ]
    }
   ],
   "source": [
    "# Instance variables\n",
    "# Instance variables contains data that is unique to each instance\n",
    "\n",
    "# Manual creation of instance variable>>>>>>>>>>Manual initialization of instance variables\n",
    "emp_1.first = 'Subhayan'\n",
    "emp_1.last = 'Ghosh'\n",
    "emp_1.email = 'Subhayan.Ghosh@company.com'\n",
    "emp_1.pay = 30000\n",
    "\n",
    "emp_2.first = 'Also'\n",
    "emp_2.last = 'Subhayan'\n",
    "emp_2.email = 'Also.Subhayan@company.com'\n",
    "emp_2.pay = 20000\n",
    "\n",
    "print(emp_1.email)                        #instance_name.variable_name\n",
    "print(emp_2.email)"
   ]
  },
  {
   "cell_type": "code",
   "execution_count": 5,
   "metadata": {},
   "outputs": [],
   "source": [
    "# Automatic intialization of instance variables using __init__\n",
    "class Employee:\n",
    "    \n",
    "    def __init__(self, first, last, pay):           # This can be thought of as a Java constructor\n",
    "                                                    # when we create a method inside a class\n",
    "                                                    # the method receives the instance as the first argument automatically\n",
    "                                                    # this is \"self\"\n",
    "        self.first = first\n",
    "        self.last = last\n",
    "        self.pay = pay               # pay is the argument in the method definition that gets passed during object creation \n",
    "                                     # self.pay refers to the pointer which holds the reference to pay \n",
    "        self.email = first + '.' + last + '@company.com'"
   ]
  },
  {
   "cell_type": "code",
   "execution_count": 41,
   "metadata": {},
   "outputs": [],
   "source": [
    "# Create object\n",
    "emp_1 = Employee('Subhayan', 'Ghosh', 30000)\n",
    "emp_2 = Employee('Also', 'Subhayan', 20000)\n",
    "\n",
    "# when any of the above lines are run:\n",
    "# the __init__ method will be run automatically and emp_1/emp_2 will be passed as self\n",
    "# and then all the attributes(variables) will be set for the emp_1/emp_2 object"
   ]
  },
  {
   "cell_type": "code",
   "execution_count": 42,
   "metadata": {},
   "outputs": [
    {
     "name": "stdout",
     "output_type": "stream",
     "text": [
      "Subhayan.Ghosh@company.com\n",
      "Also.Subhayan@company.com\n"
     ]
    }
   ],
   "source": [
    "print(emp_1.email)                       \n",
    "print(emp_2.email)"
   ]
  },
  {
   "cell_type": "code",
   "execution_count": 38,
   "metadata": {},
   "outputs": [],
   "source": [
    "# Add methods to class\n",
    "class Employee:\n",
    "    \n",
    "    def __init__(self, first, last, pay):           \n",
    "        self.first = first\n",
    "        self.last = last\n",
    "        self.pay = pay                \n",
    "        self.email = first + '.' + last + '@company.com'\n",
    "        \n",
    "    def fullname(self):                         # the method receives the instance as the first argument automatically\n",
    "        return f'{self.first} {self.last}' "
   ]
  },
  {
   "cell_type": "code",
   "execution_count": 18,
   "metadata": {},
   "outputs": [
    {
     "name": "stdout",
     "output_type": "stream",
     "text": [
      "Subhayan Ghosh\n"
     ]
    },
    {
     "ename": "AttributeError",
     "evalue": "'Employee' object has no attribute 'fullname'",
     "output_type": "error",
     "traceback": [
      "\u001b[1;31m---------------------------------------------------------------------------\u001b[0m",
      "\u001b[1;31mAttributeError\u001b[0m                            Traceback (most recent call last)",
      "\u001b[1;32m<ipython-input-18-b14c3282b0b9>\u001b[0m in \u001b[0;36m<module>\u001b[1;34m\u001b[0m\n\u001b[0;32m      1\u001b[0m \u001b[0mprint\u001b[0m\u001b[1;33m(\u001b[0m\u001b[0memp_1\u001b[0m\u001b[1;33m.\u001b[0m\u001b[0mfullname\u001b[0m\u001b[1;33m(\u001b[0m\u001b[1;33m)\u001b[0m\u001b[1;33m)\u001b[0m\u001b[1;33m\u001b[0m\u001b[1;33m\u001b[0m\u001b[0m\n\u001b[1;32m----> 2\u001b[1;33m \u001b[0mprint\u001b[0m\u001b[1;33m(\u001b[0m\u001b[0memp_2\u001b[0m\u001b[1;33m.\u001b[0m\u001b[0mfullname\u001b[0m\u001b[1;33m(\u001b[0m\u001b[1;33m)\u001b[0m\u001b[1;33m)\u001b[0m\u001b[1;33m\u001b[0m\u001b[1;33m\u001b[0m\u001b[0m\n\u001b[0m",
      "\u001b[1;31mAttributeError\u001b[0m: 'Employee' object has no attribute 'fullname'"
     ]
    }
   ],
   "source": [
    "print(emp_1.fullname()) \n",
    "print(emp_2.fullname()) \n",
    "\n",
    "# The error is because after re-compiling the class definition, I did not instantiate emp_2 which I did for emp_1"
   ]
  },
  {
   "cell_type": "code",
   "execution_count": 43,
   "metadata": {},
   "outputs": [
    {
     "name": "stdout",
     "output_type": "stream",
     "text": [
      "Also Subhayan\n",
      "<bound method Employee.fullname of <__main__.Employee object at 0x000002AE39A2A970>>\n"
     ]
    }
   ],
   "source": [
    "emp_2 = Employee('Also', 'Subhayan', 20000)\n",
    "print(emp_2.fullname()) \n",
    "print(emp_2.fullname)\n",
    "\n",
    "# For the second statement we got the location where the attribute(emp_2.fullname) is stored"
   ]
  },
  {
   "cell_type": "code",
   "execution_count": 21,
   "metadata": {},
   "outputs": [],
   "source": [
    "# Excluding the \"self\" in methods\n",
    "class Employee:\n",
    "    \n",
    "    def __init__(self, first, last, pay):           \n",
    "        self.first = first\n",
    "        self.last = last\n",
    "        self.pay = pay                \n",
    "        self.email = first + '.' + last + '@company.com'\n",
    "        \n",
    "    def fullname():                         # this won't throw any error until we call this method\n",
    "        return f'{self.first} {self.last}'"
   ]
  },
  {
   "cell_type": "code",
   "execution_count": 25,
   "metadata": {},
   "outputs": [
    {
     "ename": "TypeError",
     "evalue": "fullname() takes 0 positional arguments but 1 was given",
     "output_type": "error",
     "traceback": [
      "\u001b[1;31m---------------------------------------------------------------------------\u001b[0m",
      "\u001b[1;31mTypeError\u001b[0m                                 Traceback (most recent call last)",
      "\u001b[1;32m<ipython-input-25-90285ce84dfc>\u001b[0m in \u001b[0;36m<module>\u001b[1;34m\u001b[0m\n\u001b[0;32m      1\u001b[0m \u001b[1;31m# Now call the method\u001b[0m\u001b[1;33m\u001b[0m\u001b[1;33m\u001b[0m\u001b[1;33m\u001b[0m\u001b[0m\n\u001b[0;32m      2\u001b[0m \u001b[0memp_1\u001b[0m \u001b[1;33m=\u001b[0m \u001b[0mEmployee\u001b[0m\u001b[1;33m(\u001b[0m\u001b[1;34m'Subhayan'\u001b[0m\u001b[1;33m,\u001b[0m \u001b[1;34m'Ghosh'\u001b[0m\u001b[1;33m,\u001b[0m \u001b[1;36m30000\u001b[0m\u001b[1;33m)\u001b[0m\u001b[1;33m\u001b[0m\u001b[1;33m\u001b[0m\u001b[0m\n\u001b[1;32m----> 3\u001b[1;33m \u001b[0mprint\u001b[0m\u001b[1;33m(\u001b[0m\u001b[0memp_1\u001b[0m\u001b[1;33m.\u001b[0m\u001b[0mfullname\u001b[0m\u001b[1;33m(\u001b[0m\u001b[1;33m)\u001b[0m\u001b[1;33m)\u001b[0m\u001b[1;33m\u001b[0m\u001b[1;33m\u001b[0m\u001b[0m\n\u001b[0m",
      "\u001b[1;31mTypeError\u001b[0m: fullname() takes 0 positional arguments but 1 was given"
     ]
    }
   ],
   "source": [
    "# Now call the method\n",
    "emp_1 = Employee('Subhayan', 'Ghosh', 30000)\n",
    "print(emp_1.fullname())"
   ]
  },
  {
   "cell_type": "code",
   "execution_count": 26,
   "metadata": {},
   "outputs": [],
   "source": [
    "# Error says I passed one argument even if I did not pass any --> notice emp_1.fullname()\n",
    "# This is because, by default emp_1 was passed to the method fullname\n",
    "# but as per it's definition it does not accept any argument\n",
    "# so we must keep \"self\" "
   ]
  },
  {
   "cell_type": "code",
   "execution_count": 39,
   "metadata": {},
   "outputs": [
    {
     "ename": "TypeError",
     "evalue": "fullname() missing 1 required positional argument: 'self'",
     "output_type": "error",
     "traceback": [
      "\u001b[1;31m---------------------------------------------------------------------------\u001b[0m",
      "\u001b[1;31mTypeError\u001b[0m                                 Traceback (most recent call last)",
      "\u001b[1;32m<ipython-input-39-358870cf02cd>\u001b[0m in \u001b[0;36m<module>\u001b[1;34m\u001b[0m\n\u001b[0;32m      1\u001b[0m \u001b[1;31m# Calling the method by class\u001b[0m\u001b[1;33m\u001b[0m\u001b[1;33m\u001b[0m\u001b[1;33m\u001b[0m\u001b[0m\n\u001b[0;32m      2\u001b[0m \u001b[1;31m# Compile the class def with \"self\" as argument in method fullname\u001b[0m\u001b[1;33m\u001b[0m\u001b[1;33m\u001b[0m\u001b[1;33m\u001b[0m\u001b[0m\n\u001b[1;32m----> 3\u001b[1;33m \u001b[0mEmployee\u001b[0m\u001b[1;33m.\u001b[0m\u001b[0mfullname\u001b[0m\u001b[1;33m(\u001b[0m\u001b[1;33m)\u001b[0m\u001b[1;33m\u001b[0m\u001b[1;33m\u001b[0m\u001b[0m\n\u001b[0m",
      "\u001b[1;31mTypeError\u001b[0m: fullname() missing 1 required positional argument: 'self'"
     ]
    }
   ],
   "source": [
    "# Calling the method by class\n",
    "# Compile the class def with \"self\" as argument in method fullname\n",
    "Employee.fullname()"
   ]
  },
  {
   "cell_type": "code",
   "execution_count": 36,
   "metadata": {},
   "outputs": [
    {
     "name": "stdout",
     "output_type": "stream",
     "text": [
      "Subhayan Ghosh\n",
      "Subhayan Ghosh\n"
     ]
    }
   ],
   "source": [
    "# Here we need to pass the instance as Python is unsure of the instance to be used\n",
    "print(Employee.fullname(emp_1))\n",
    "print(emp_1.fullname()) \n",
    "# both does the same thing\n",
    "\n",
    "# In the background emp_1.fullname([self]) gets converted to Employee.fullname(emp_1)\n",
    "# and passes emp_1 as self"
   ]
  },
  {
   "cell_type": "markdown",
   "metadata": {},
   "source": [
    "# Part 2"
   ]
  },
  {
   "cell_type": "code",
   "execution_count": 59,
   "metadata": {},
   "outputs": [],
   "source": [
    "class Employee:\n",
    "    \n",
    "    def __init__(self, first, last, pay):           \n",
    "        self.first = first\n",
    "        self.last = last\n",
    "        self.pay = pay                \n",
    "        self.email = first + '.' + last + '@company.com'\n",
    "        \n",
    "    def fullname(self):                         \n",
    "        return f'{self.first} {self.last}'\n",
    "    \n",
    "    def apply_raise(self):\n",
    "        self.pay = int(self.pay * 1.4)    # 40% hike!!! Don't be jealous       "
   ]
  },
  {
   "cell_type": "code",
   "execution_count": 60,
   "metadata": {},
   "outputs": [],
   "source": [
    "emp_1 = Employee('Subhayan', 'Ghosh', 30000)\n",
    "emp_2 = Employee('Also', 'Subhayan', 20000)"
   ]
  },
  {
   "cell_type": "code",
   "execution_count": 61,
   "metadata": {},
   "outputs": [
    {
     "name": "stdout",
     "output_type": "stream",
     "text": [
      "30000\n",
      "\n",
      "42000\n"
     ]
    }
   ],
   "source": [
    "print(emp_1.pay)\n",
    "\n",
    "emp_1.apply_raise()\n",
    "print('')\n",
    "\n",
    "print(emp_1.pay)"
   ]
  },
  {
   "cell_type": "code",
   "execution_count": 76,
   "metadata": {},
   "outputs": [],
   "source": [
    "# Now there are two problems with this way of getting a hike\n",
    "# 1. Percentage is hard-coded fixed amount\n",
    "# 2. It is hidden inside the class method apply_raise(), very difficult to change the percentage\n",
    "\n",
    "# Soln. is to use a class variable which tells the percentage and \n",
    "# the method will apply that amount to existing pay\n",
    "\n",
    "class Employee:\n",
    "    \n",
    "    raise_percentage = 40\n",
    "    \n",
    "    def __init__(self, first, last, pay):           \n",
    "        self.first = first\n",
    "        self.last = last\n",
    "        self.pay = pay                \n",
    "        self.email = first + '.' + last + '@company.com'\n",
    "        \n",
    "    def fullname(self):                         \n",
    "        return f'{self.first} {self.last}'\n",
    "    \n",
    "    def apply_raise(self):\n",
    "        self.pay = int(self.pay * (Employee.raise_percentage/100+1))  # Class variable to be accessed using class name    "
   ]
  },
  {
   "cell_type": "code",
   "execution_count": 77,
   "metadata": {},
   "outputs": [],
   "source": [
    "emp_1 = Employee('Subhayan', 'Ghosh', 30000)\n",
    "emp_2 = Employee('Also', 'Subhayan', 20000)"
   ]
  },
  {
   "cell_type": "code",
   "execution_count": 78,
   "metadata": {},
   "outputs": [
    {
     "name": "stdout",
     "output_type": "stream",
     "text": [
      "30000\n",
      "\n",
      "42000\n"
     ]
    }
   ],
   "source": [
    "print(emp_1.pay)\n",
    "\n",
    "emp_1.apply_raise()\n",
    "print('')\n",
    "\n",
    "print(emp_1.pay)"
   ]
  },
  {
   "cell_type": "code",
   "execution_count": 79,
   "metadata": {},
   "outputs": [
    {
     "name": "stdout",
     "output_type": "stream",
     "text": [
      "{'first': 'Subhayan', 'last': 'Ghosh', 'pay': 42000, 'email': 'Subhayan.Ghosh@company.com'}\n"
     ]
    }
   ],
   "source": [
    "# print out the namespace for instance\n",
    "print(emp_1.__dict__)"
   ]
  },
  {
   "cell_type": "code",
   "execution_count": 80,
   "metadata": {},
   "outputs": [
    {
     "name": "stdout",
     "output_type": "stream",
     "text": [
      "40\n"
     ]
    }
   ],
   "source": [
    "# Notice we do not have the raise_percentage attribute defined for an instance(emp_1)\n",
    "print(emp_1.raise_percentage)\n",
    "\n",
    "# It accessed the class variable through the class definition\n",
    "# emp_1 first searched for raise_percentage in itself, then searched in the class"
   ]
  },
  {
   "cell_type": "code",
   "execution_count": 81,
   "metadata": {},
   "outputs": [],
   "source": [
    "# Let's change the raise to 50%\n",
    "Employee.raise_percentage = 50\n",
    "\n",
    "# It changes the raise for all instances"
   ]
  },
  {
   "cell_type": "code",
   "execution_count": 82,
   "metadata": {},
   "outputs": [
    {
     "name": "stdout",
     "output_type": "stream",
     "text": [
      "50\n",
      "50\n"
     ]
    }
   ],
   "source": [
    "print(emp_1.raise_percentage)\n",
    "print(emp_2.raise_percentage)"
   ]
  },
  {
   "cell_type": "code",
   "execution_count": 84,
   "metadata": {},
   "outputs": [
    {
     "name": "stdout",
     "output_type": "stream",
     "text": [
      "{'first': 'Subhayan', 'last': 'Ghosh', 'pay': 42000, 'email': 'Subhayan.Ghosh@company.com', 'raise_percentage': 50}\n",
      "50\n",
      "40\n"
     ]
    }
   ],
   "source": [
    "Employee.raise_percentage = 40\n",
    "\n",
    "# In case we need to give 50% raise to only emp_1, we can do so by:\n",
    "emp_1.raise_percentage = 50\n",
    "# Here emp_1 gets an attribute called raise_percentage\n",
    "print(emp_1.__dict__)\n",
    "\n",
    "\n",
    "print(emp_1.raise_percentage)\n",
    "print(emp_2.raise_percentage) # still 40% raise"
   ]
  },
  {
   "cell_type": "code",
   "execution_count": 86,
   "metadata": {},
   "outputs": [
    {
     "name": "stdout",
     "output_type": "stream",
     "text": [
      "0\n",
      "3\n"
     ]
    }
   ],
   "source": [
    "# An example where self is not required\n",
    "# Consider we need to count the number of employees\n",
    "class Employee:\n",
    "    \n",
    "    raise_percentage = 40\n",
    "    num_of_emps = 0           # It is defined under a class which makes sense as we need to count of of Employees\n",
    "    \n",
    "    def __init__(self, first, last, pay):           \n",
    "        self.first = first\n",
    "        self.last = last\n",
    "        self.pay = pay                \n",
    "        self.email = first + '.' + last + '@company.com'\n",
    "        Employee.num_of_emps += 1 \n",
    "        # Whenever we create an actual employee(technically we create an instance of class Employee)\n",
    "        # we increment the class variable as we know, each time an instance of a class is created\n",
    "        # __init__ is called for initializing that instance\n",
    "        \n",
    "    def fullname(self):                         \n",
    "        return f'{self.first} {self.last}'\n",
    "    \n",
    "    def apply_raise(self):\n",
    "        self.pay = int(self.pay * (Employee.raise_percentage/100+1))\n",
    "\n",
    "\n",
    "print(Employee.num_of_emps)\n",
    "\n",
    "emp_1 = Employee('Subhayan', 'Ghosh', 30000)\n",
    "emp_2 = Employee('Also', 'Subhayan', 20000)\n",
    "emp_3 = Employee('Another', 'Subhayan', 20000)\n",
    "\n",
    "print(Employee.num_of_emps)"
   ]
  }
 ],
 "metadata": {
  "kernelspec": {
   "display_name": "Python 3",
   "language": "python",
   "name": "python3"
  },
  "language_info": {
   "codemirror_mode": {
    "name": "ipython",
    "version": 3
   },
   "file_extension": ".py",
   "mimetype": "text/x-python",
   "name": "python",
   "nbconvert_exporter": "python",
   "pygments_lexer": "ipython3",
   "version": "3.8.2"
  }
 },
 "nbformat": 4,
 "nbformat_minor": 4
}
