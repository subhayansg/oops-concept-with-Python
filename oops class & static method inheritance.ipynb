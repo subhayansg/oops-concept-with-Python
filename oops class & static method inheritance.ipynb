{
 "cells": [
  {
   "cell_type": "markdown",
   "metadata": {},
   "source": [
    "# Class methods"
   ]
  },
  {
   "cell_type": "code",
   "execution_count": 6,
   "metadata": {},
   "outputs": [],
   "source": [
    "# Class methods\n",
    "class Employee:\n",
    "    \n",
    "    raise_percentage = 40\n",
    "    num_of_emps = 0           \n",
    "    \n",
    "    def __init__(self, first, last, pay):           \n",
    "        self.first = first\n",
    "        self.last = last\n",
    "        self.pay = pay                \n",
    "        self.email = first + '.' + last + '@company.com'\n",
    "        Employee.num_of_emps += 1 \n",
    "\n",
    "        \n",
    "    def fullname(self):                         \n",
    "        return f'{self.first} {self.last}'\n",
    "    \n",
    "    def apply_raise(self):\n",
    "        self.pay = int(self.pay * (Employee.raise_percentage/100+1))\n",
    "        \n",
    "    @classmethod\n",
    "    def set_raise_amount(cls, percentage):   #Accepts the \"cls\" argument as default just like self for normal methods\n",
    "        cls.raise_percentage = percentage"
   ]
  },
  {
   "cell_type": "code",
   "execution_count": 7,
   "metadata": {},
   "outputs": [],
   "source": [
    "emp_1 = Employee('Subhayan', 'Ghosh', 30000)\n",
    "emp_2 = Employee('Also', 'Subhayan', 20000)"
   ]
  },
  {
   "cell_type": "code",
   "execution_count": 8,
   "metadata": {},
   "outputs": [
    {
     "name": "stdout",
     "output_type": "stream",
     "text": [
      "40\n",
      "40\n",
      "40\n"
     ]
    }
   ],
   "source": [
    "print(Employee.raise_percentage)\n",
    "print(emp_1.raise_percentage)\n",
    "print(emp_2.raise_percentage)\n",
    "\n",
    "# Here the raise_percentage will be 40% for all the instances as it has been set at the class level"
   ]
  },
  {
   "cell_type": "code",
   "execution_count": 9,
   "metadata": {},
   "outputs": [],
   "source": [
    "Employee.set_raise_amount(50)\n",
    "# This resets the raise_percentage to be 50% for all the instances\n",
    "# As the method is a class method"
   ]
  },
  {
   "cell_type": "code",
   "execution_count": 10,
   "metadata": {},
   "outputs": [
    {
     "name": "stdout",
     "output_type": "stream",
     "text": [
      "50\n",
      "50\n",
      "50\n"
     ]
    }
   ],
   "source": [
    "print(Employee.raise_percentage)\n",
    "print(emp_1.raise_percentage)\n",
    "print(emp_2.raise_percentage)"
   ]
  },
  {
   "cell_type": "code",
   "execution_count": 11,
   "metadata": {},
   "outputs": [],
   "source": [
    "# Class methods are sometimes are referred as alternative constructors\n",
    "# Let's consider an example how this can be beneficial\n",
    "# Imagine, employee details are obtained as a string like this: 'John-Doe-70000'\n",
    "# How will you parse this to create an employee named John Doe whose salary is 70000?\n",
    "# Define another class method which can parse this string to create an employee"
   ]
  },
  {
   "cell_type": "code",
   "execution_count": 24,
   "metadata": {},
   "outputs": [],
   "source": [
    "# Class methods\n",
    "class Employee:\n",
    "    \n",
    "    raise_percentage = 40\n",
    "    num_of_emps = 0           \n",
    "    \n",
    "    def __init__(self, first, last, pay):           \n",
    "        self.first = first\n",
    "        self.last = last\n",
    "        self.pay = pay                \n",
    "        self.email = first + '.' + last + '@company.com'\n",
    "        Employee.num_of_emps += 1 \n",
    "\n",
    "        \n",
    "    def fullname(self):                         \n",
    "        return f'{self.first} {self.last}'\n",
    "    \n",
    "    def apply_raise(self):\n",
    "        self.pay = int(self.pay * (Employee.raise_percentage/100+1))\n",
    "        \n",
    "    @classmethod\n",
    "    def set_raise_amount(cls, percentage):   \n",
    "        cls.raise_percentage = percentage\n",
    "        \n",
    "    @classmethod\n",
    "    def from_string(cls, emp_string):\n",
    "        first, last, pay = emp_string.split('-')\n",
    "        return cls(first, last, pay)            # cls(first, last, pay) creates an employee\n",
    "                                                # This is exactly the same as creating an instance of class Employee\n",
    "                                                # for ex. Employee('Subhayan', 'Ghosh', 30000)"
   ]
  },
  {
   "cell_type": "code",
   "execution_count": 26,
   "metadata": {},
   "outputs": [
    {
     "name": "stdout",
     "output_type": "stream",
     "text": [
      "John.Doe@company.com\n"
     ]
    }
   ],
   "source": [
    "emp_str_1 = 'John-Doe-70000'\n",
    "\n",
    "# Create an object --> create employee John Doe\n",
    "new_emp_1 = Employee.from_string(emp_str_1)\n",
    "\n",
    "print(new_emp_1.email)"
   ]
  },
  {
   "cell_type": "markdown",
   "metadata": {},
   "source": [
    "# Static methods"
   ]
  },
  {
   "cell_type": "code",
   "execution_count": 28,
   "metadata": {},
   "outputs": [],
   "source": [
    "# Normal methods pass the \"instance--> self\" as argument\n",
    "# Class methods pass the \"class --> cls\" as argument\n",
    "# Static methods do not pass anything\n",
    "# They behave like normal functions and have some logical connection with a class in which they are implemented"
   ]
  },
  {
   "cell_type": "code",
   "execution_count": 29,
   "metadata": {},
   "outputs": [],
   "source": [
    "# let's add a method which finds out the day is a working day or not\n",
    "# It has no direct link to an employee class but logically they have a relation"
   ]
  },
  {
   "cell_type": "code",
   "execution_count": 57,
   "metadata": {},
   "outputs": [],
   "source": [
    "class Employee:\n",
    "    \n",
    "    raise_percentage = 40\n",
    "    num_of_emps = 0           \n",
    "    \n",
    "    def __init__(self, first, last, pay):           \n",
    "        self.first = first\n",
    "        self.last = last\n",
    "        self.pay = pay                \n",
    "        self.email = first + '.' + last + '@company.com'\n",
    "        Employee.num_of_emps += 1 \n",
    "\n",
    "        \n",
    "    def fullname(self):                         \n",
    "        return f'{self.first} {self.last}'\n",
    "    \n",
    "    def apply_raise(self):\n",
    "        self.pay = int(self.pay * (Employee.raise_percentage/100+1))\n",
    "        \n",
    "    @classmethod\n",
    "    def set_raise_amount(cls, percentage):   \n",
    "        cls.raise_percentage = percentage\n",
    "        \n",
    "    @classmethod\n",
    "    def from_string(cls, emp_string):\n",
    "        first, last, pay = emp_string.split('-')\n",
    "        return cls(first, last, pay)\n",
    "    \n",
    "    @staticmethod\n",
    "    def is_workday(day):\n",
    "        if day.weekday() == 5 or day.weekday() == 6:   # Python's built-in weekday() method\n",
    "                                                       # monday = 0, sunday = 6 \n",
    "            return f'{day} is not a working day.'\n",
    "        else:\n",
    "            return f'{day} is a working day.'"
   ]
  },
  {
   "cell_type": "code",
   "execution_count": 58,
   "metadata": {},
   "outputs": [
    {
     "name": "stdout",
     "output_type": "stream",
     "text": [
      "2020-04-27 is a working day.\n"
     ]
    }
   ],
   "source": [
    "import datetime\n",
    "my_date = datetime.date(2020, 4, 27)\n",
    "\n",
    "print(Employee.is_workday(my_date))"
   ]
  },
  {
   "cell_type": "code",
   "execution_count": 42,
   "metadata": {},
   "outputs": [],
   "source": [
    "# In case you see that a method does not use any of the class attributes or instance attributes\n",
    "# It's better to use that as a static method"
   ]
  },
  {
   "cell_type": "markdown",
   "metadata": {},
   "source": [
    "# Inheritance"
   ]
  },
  {
   "cell_type": "code",
   "execution_count": 2,
   "metadata": {},
   "outputs": [],
   "source": [
    "class Employee:\n",
    "    \n",
    "    raise_percentage = 40\n",
    "    num_of_emps = 0           \n",
    "    \n",
    "    def __init__(self, first, last, pay):           \n",
    "        self.first = first\n",
    "        self.last = last\n",
    "        self.pay = pay                \n",
    "        self.email = first + '.' + last + '@company.com'\n",
    "        Employee.num_of_emps += 1 \n",
    "\n",
    "        \n",
    "    def fullname(self):                         \n",
    "        return f'{self.first} {self.last}'\n",
    "    \n",
    "    def apply_raise(self):\n",
    "        self.pay = int(self.pay * (Employee.raise_percentage/100+1))"
   ]
  },
  {
   "cell_type": "code",
   "execution_count": 74,
   "metadata": {},
   "outputs": [],
   "source": [
    "# Developer and Manager sub classes\n",
    "\n",
    "class Developer(Employee):\n",
    "    pass"
   ]
  },
  {
   "cell_type": "code",
   "execution_count": 75,
   "metadata": {},
   "outputs": [
    {
     "name": "stdout",
     "output_type": "stream",
     "text": [
      "Subhayan.Ghosh@company.com\n",
      "Also.Subhayan@company.com\n"
     ]
    }
   ],
   "source": [
    "# At this moment Developer class does not have anything\n",
    "# But is can use all attributes of Employee class which is the \n",
    "# Super/Base/Parent class of the Developer class\n",
    "\n",
    "dev_1 = Developer('Subhayan', 'Ghosh', 30000)\n",
    "dev_2 = Developer('Also', 'Subhayan', 20000)\n",
    "# what happens in the above two object creation is\n",
    "# Though Developer class do not have __init__ methods for initializing\n",
    "# Python searches in the walks up the chain of inheritance and finds the __init__ method in the parent class\n",
    "# This chain is called \"Method Resolution Order --> MRO\"\n",
    "\n",
    "print(dev_1.email)\n",
    "print(dev_2.email)"
   ]
  },
  {
   "cell_type": "code",
   "execution_count": 69,
   "metadata": {},
   "outputs": [
    {
     "name": "stdout",
     "output_type": "stream",
     "text": [
      "Help on class Developer in module __main__:\n",
      "\n",
      "class Developer(Employee)\n",
      " |  Developer(first, last, pay)\n",
      " |  \n",
      " |  Method resolution order:\n",
      " |      Developer\n",
      " |      Employee\n",
      " |      builtins.object\n",
      " |  \n",
      " |  Methods inherited from Employee:\n",
      " |  \n",
      " |  __init__(self, first, last, pay)\n",
      " |      Initialize self.  See help(type(self)) for accurate signature.\n",
      " |  \n",
      " |  apply_raise(self)\n",
      " |  \n",
      " |  fullname(self)\n",
      " |  \n",
      " |  ----------------------------------------------------------------------\n",
      " |  Data descriptors inherited from Employee:\n",
      " |  \n",
      " |  __dict__\n",
      " |      dictionary for instance variables (if defined)\n",
      " |  \n",
      " |  __weakref__\n",
      " |      list of weak references to the object (if defined)\n",
      " |  \n",
      " |  ----------------------------------------------------------------------\n",
      " |  Data and other attributes inherited from Employee:\n",
      " |  \n",
      " |  num_of_emps = 2\n",
      " |  \n",
      " |  raise_percentage = 40\n",
      "\n",
      "None\n"
     ]
    }
   ],
   "source": [
    "# Find details for the child class Developer\n",
    "print(help(Developer))"
   ]
  },
  {
   "cell_type": "code",
   "execution_count": 70,
   "metadata": {},
   "outputs": [],
   "source": [
    "# Now if you see the MRO of Developer class:\n",
    "#  |  Method resolution order:\n",
    "#  |      Developer\n",
    "#  |      Employee\n",
    "#  |      builtins.object\n",
    "# You'll see that, first Python checks in Developer class itself, it's not there\n",
    "# Then it goes to Employee class, it's found there. In case it did not find, it would go to builtins.object"
   ]
  },
  {
   "cell_type": "code",
   "execution_count": 91,
   "metadata": {},
   "outputs": [
    {
     "name": "stdout",
     "output_type": "stream",
     "text": [
      "30000\n",
      "\n",
      "30000\n",
      "42000\n",
      "\n",
      "42000\n"
     ]
    }
   ],
   "source": [
    "# change raise percentage for Developers\n",
    "class Developer(Employee):\n",
    "    raise_percentage = 50\n",
    "\n",
    "dev_11 = Developer('Subho', 'Ghosh', 30000)\n",
    "dev_22 = Employee('Also', 'Subho', 30000)\n",
    "\n",
    "print(dev_11.pay)\n",
    "print('')\n",
    "print(dev_22.pay)\n",
    "\n",
    "\n",
    "\n",
    "# Apply the raise\n",
    "dev_11.apply_raise()\n",
    "dev_22.apply_raise()\n",
    "    \n",
    "print(dev_11.pay)\n",
    "print('')\n",
    "print(dev_22.pay)"
   ]
  },
  {
   "cell_type": "code",
   "execution_count": 92,
   "metadata": {},
   "outputs": [
    {
     "data": {
      "text/plain": [
       "50"
      ]
     },
     "execution_count": 92,
     "metadata": {},
     "output_type": "execute_result"
    }
   ],
   "source": [
    "Developer.raise_percentage"
   ]
  },
  {
   "cell_type": "code",
   "execution_count": 93,
   "metadata": {},
   "outputs": [
    {
     "data": {
      "text/plain": [
       "40"
      ]
     },
     "execution_count": 93,
     "metadata": {},
     "output_type": "execute_result"
    }
   ],
   "source": [
    "Employee.raise_percentage"
   ]
  },
  {
   "cell_type": "code",
   "execution_count": null,
   "metadata": {},
   "outputs": [],
   "source": [
    "# Now let's assume we want to add another attribute to Developers class\n",
    "# Since this is specific to Developer class, we need to use __init__ constructor for intializing the object"
   ]
  },
  {
   "cell_type": "code",
   "execution_count": 5,
   "metadata": {},
   "outputs": [],
   "source": [
    "class Developer(Employee):\n",
    "    \n",
    "    raise_percentage = 50\n",
    "    \n",
    "    def __init__(self, first, last, pay, prog_lang):\n",
    "        \n",
    "        # Now we need to follow DRY  (Don't Repeat Yourselves)\n",
    "        # Let first, last, pay be set by Employee's __init__ method\n",
    "        # And prog_lang set by Developer's __init__ method (which makes sense as it is unique in Developer only)\n",
    "        \n",
    "        super().__init__(first, last, pay)\n",
    "#       Employee.__init__(self, first, last, pay)  \n",
    "        # both the above line do the same thing\n",
    "        self.prog_lang = prog_lang"
   ]
  },
  {
   "cell_type": "code",
   "execution_count": 7,
   "metadata": {},
   "outputs": [],
   "source": [
    "dev_1 = Developer('Subho', 'Ghosh', 30000, 'Java')\n",
    "dev_2 = Developer('Also', 'Subho', 30000, 'Python')"
   ]
  },
  {
   "cell_type": "code",
   "execution_count": 9,
   "metadata": {},
   "outputs": [
    {
     "name": "stdout",
     "output_type": "stream",
     "text": [
      "Subho.Ghosh@company.com\n",
      "Python\n"
     ]
    }
   ],
   "source": [
    "print(dev_1.email)\n",
    "print(dev_2.prog_lang)"
   ]
  },
  {
   "cell_type": "code",
   "execution_count": 17,
   "metadata": {},
   "outputs": [],
   "source": [
    "class Manager(Employee):\n",
    "    \n",
    "    def __init__(self, first, last, pay, employees=None):\n",
    "        \"\"\"\n",
    "        employees: List of employees that a manager supervises\n",
    "        \"\"\"\n",
    "        super().__init__(first, last, pay)\n",
    "        if employees is None:\n",
    "            self.employees = []\n",
    "        else:\n",
    "            self.employees = employees\n",
    "    \n",
    "    def add_emp(self, emp):\n",
    "        if emp not in self.employees:\n",
    "            self.employees.append(emp)\n",
    "            \n",
    "    def remove_emp(self, emp):\n",
    "        if emp in self.employees:\n",
    "            self.employees.remove(emp)\n",
    "            \n",
    "    def print_emps(self):\n",
    "        for emp in self.employees:\n",
    "            print('-->', emp.fullname())          "
   ]
  },
  {
   "cell_type": "code",
   "execution_count": 18,
   "metadata": {},
   "outputs": [],
   "source": [
    "# Create a manager\n",
    "mgr_1 = Manager('Subhayan', 'Ghosh', 60000, [dev_1])"
   ]
  },
  {
   "cell_type": "code",
   "execution_count": 19,
   "metadata": {},
   "outputs": [
    {
     "name": "stdout",
     "output_type": "stream",
     "text": [
      "Subhayan.Ghosh@company.com\n"
     ]
    }
   ],
   "source": [
    "print(mgr_1.email)"
   ]
  },
  {
   "cell_type": "code",
   "execution_count": 20,
   "metadata": {},
   "outputs": [
    {
     "name": "stdout",
     "output_type": "stream",
     "text": [
      "--> Subho Ghosh\n"
     ]
    }
   ],
   "source": [
    "mgr_1.print_emps()"
   ]
  },
  {
   "cell_type": "code",
   "execution_count": 21,
   "metadata": {},
   "outputs": [],
   "source": [
    "mgr_1.add_emp(dev_2)"
   ]
  },
  {
   "cell_type": "code",
   "execution_count": 22,
   "metadata": {},
   "outputs": [
    {
     "name": "stdout",
     "output_type": "stream",
     "text": [
      "--> Subho Ghosh\n",
      "--> Also Subho\n"
     ]
    }
   ],
   "source": [
    "mgr_1.print_emps()"
   ]
  },
  {
   "cell_type": "code",
   "execution_count": 23,
   "metadata": {},
   "outputs": [],
   "source": [
    "mgr_1.remove_emp(dev_1)"
   ]
  },
  {
   "cell_type": "code",
   "execution_count": 24,
   "metadata": {},
   "outputs": [
    {
     "name": "stdout",
     "output_type": "stream",
     "text": [
      "--> Also Subho\n"
     ]
    }
   ],
   "source": [
    "mgr_1.print_emps()"
   ]
  },
  {
   "cell_type": "markdown",
   "metadata": {},
   "source": [
    "# isinstance() & issubclass()"
   ]
  },
  {
   "cell_type": "code",
   "execution_count": 30,
   "metadata": {},
   "outputs": [
    {
     "name": "stdout",
     "output_type": "stream",
     "text": [
      "True\n",
      "False --> Since Developer and Manager does not connect directly\n",
      "True --> Since Manager is a subclass of Employee\n"
     ]
    }
   ],
   "source": [
    "# isinstance() will tell us if an object is an instance of a class\n",
    "# check if mgr_1 is an instance of Manager\n",
    "print(isinstance(mgr_1, Manager))\n",
    "\n",
    "print(isinstance(mgr_1, Developer),'--> Since Developer and Manager does not connect directly')\n",
    "\n",
    "print(isinstance(mgr_1, Employee), '--> Since Manager is a subclass of Employee') "
   ]
  },
  {
   "cell_type": "code",
   "execution_count": 33,
   "metadata": {},
   "outputs": [
    {
     "name": "stdout",
     "output_type": "stream",
     "text": [
      "True\n",
      "True\n",
      "False\n"
     ]
    }
   ],
   "source": [
    "# issubclass() will tell us if a class is subclass of another class\n",
    "print(issubclass(Developer, Employee))\n",
    "\n",
    "print(issubclass(Manager, Employee))\n",
    "\n",
    "print(issubclass(Developer, Manager))"
   ]
  }
 ],
 "metadata": {
  "kernelspec": {
   "display_name": "Python 3",
   "language": "python",
   "name": "python3"
  },
  "language_info": {
   "codemirror_mode": {
    "name": "ipython",
    "version": 3
   },
   "file_extension": ".py",
   "mimetype": "text/x-python",
   "name": "python",
   "nbconvert_exporter": "python",
   "pygments_lexer": "ipython3",
   "version": "3.7.4"
  }
 },
 "nbformat": 4,
 "nbformat_minor": 4
}
